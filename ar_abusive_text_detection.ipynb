{
 "cells": [
  {
   "cell_type": "code",
   "execution_count": 63,
   "id": "8cb944f3",
   "metadata": {
    "colab": {
     "base_uri": "https://localhost:8080/"
    },
    "id": "8cb944f3",
    "outputId": "2a9e4312-a9cc-4ab2-e6f5-3683698f7ebe"
   },
   "outputs": [],
   "source": [
    "# %pip install arabert\n",
    "# %pip install tashaphyne\n",
    "import numpy as np\n",
    "import nltk\n",
    "from sklearn.naive_bayes import MultinomialNB\n",
    "from sklearn.feature_extraction.text import CountVectorizer\n",
    "import pandas as pd\n",
    "from collections import Counter\n",
    "from sklearn.model_selection import train_test_split\n",
    "from sklearn.feature_extraction.text import TfidfTransformer\n",
    "from arabert.preprocess import ArabertPreprocessor"
   ]
  },
  {
   "cell_type": "code",
   "execution_count": 64,
   "id": "ae46b210",
   "metadata": {
     "id": "ae46b210"
   },
   "outputs": [],
   "source": [
    "#reading data\n",
    "ar_harass=pd.read_csv('ar_dataset.csv')"
   ]
  },
  {
   "cell_type": "code",
   "execution_count": 65,
   "id": "66865580",
   "metadata": {
    "colab": {
     "base_uri": "https://localhost:8080/",
     "height": 1000
    },
    "id": "66865580",
    "outputId": "50e999f3-337a-4974-f6af-33cda4835718"
   },
   "outputs": [
    {
     "data": {
      "text/html": [
       "<div>\n",
       "<style scoped>\n",
       "    .dataframe tbody tr th:only-of-type {\n",
       "        vertical-align: middle;\n",
       "    }\n",
       "\n",
       "    .dataframe tbody tr th {\n",
       "        vertical-align: top;\n",
       "    }\n",
       "\n",
       "    .dataframe thead th {\n",
       "        text-align: right;\n",
       "    }\n",
       "</style>\n",
       "<table border=\"1\" class=\"dataframe\">\n",
       "  <thead>\n",
       "    <tr style=\"text-align: right;\">\n",
       "      <th></th>\n",
       "      <th>HITId</th>\n",
       "      <th>tweet</th>\n",
       "      <th>sentiment</th>\n",
       "      <th>directness</th>\n",
       "      <th>annotator_sentiment</th>\n",
       "      <th>target</th>\n",
       "      <th>group</th>\n",
       "    </tr>\n",
       "  </thead>\n",
       "  <tbody>\n",
       "    <tr>\n",
       "      <th>0</th>\n",
       "      <td>1</td>\n",
       "      <td>صلاة الفجر خير لك من ترديد بول البعير وسبي الن...</td>\n",
       "      <td>hateful_normal</td>\n",
       "      <td>indirect</td>\n",
       "      <td>shock</td>\n",
       "      <td>gender</td>\n",
       "      <td>individual</td>\n",
       "    </tr>\n",
       "    <tr>\n",
       "      <th>1</th>\n",
       "      <td>2</td>\n",
       "      <td>صراحة نفسي اشوف ولاد الوسخة اللي قالوا مدرب اج...</td>\n",
       "      <td>offensive</td>\n",
       "      <td>indirect</td>\n",
       "      <td>anger_confusion_sadness_indifference_disgust</td>\n",
       "      <td>other</td>\n",
       "      <td>other</td>\n",
       "    </tr>\n",
       "    <tr>\n",
       "      <th>2</th>\n",
       "      <td>3</td>\n",
       "      <td>طيب! هي متبرجة وعبايتها ملونه وطالعة من بيتهم ...</td>\n",
       "      <td>offensive</td>\n",
       "      <td>indirect</td>\n",
       "      <td>indifference</td>\n",
       "      <td>other</td>\n",
       "      <td>individual</td>\n",
       "    </tr>\n",
       "    <tr>\n",
       "      <th>3</th>\n",
       "      <td>4</td>\n",
       "      <td>@user @user انا اوافقك بخصوص السوريين و العراق...</td>\n",
       "      <td>normal</td>\n",
       "      <td>direct</td>\n",
       "      <td>indifference</td>\n",
       "      <td>origin</td>\n",
       "      <td>other</td>\n",
       "    </tr>\n",
       "    <tr>\n",
       "      <th>4</th>\n",
       "      <td>5</td>\n",
       "      <td>هذه السعودية التي شعبها شعب الخيم و بول البعير...</td>\n",
       "      <td>normal</td>\n",
       "      <td>indirect</td>\n",
       "      <td>indifference</td>\n",
       "      <td>origin</td>\n",
       "      <td>other</td>\n",
       "    </tr>\n",
       "  </tbody>\n",
       "</table>\n",
       "</div>"
      ],
      "text/plain": [
       "   HITId                                              tweet       sentiment  \\\n",
       "0      1  صلاة الفجر خير لك من ترديد بول البعير وسبي الن...  hateful_normal   \n",
       "1      2  صراحة نفسي اشوف ولاد الوسخة اللي قالوا مدرب اج...       offensive   \n",
       "2      3  طيب! هي متبرجة وعبايتها ملونه وطالعة من بيتهم ...       offensive   \n",
       "3      4  @user @user انا اوافقك بخصوص السوريين و العراق...          normal   \n",
       "4      5  هذه السعودية التي شعبها شعب الخيم و بول البعير...          normal   \n",
       "\n",
       "  directness                           annotator_sentiment  target       group  \n",
       "0   indirect                                         shock  gender  individual  \n",
       "1   indirect  anger_confusion_sadness_indifference_disgust   other       other  \n",
       "2   indirect                                  indifference   other  individual  \n",
       "3     direct                                  indifference  origin       other  \n",
       "4   indirect                                  indifference  origin       other  "
      ]
     },
     "execution_count": 65,
     "metadata": {},
     "output_type": "execute_result"
    }
   ],
   "source": [
    "ar_harass.head(5)"
   ]
  },
  {
   "cell_type": "code",
   "execution_count": 66,
   "id": "b969f350",
   "metadata": {
    "id": "b969f350"
   },
   "outputs": [],
   "source": [
    "ar_harass=ar_harass.drop(['directness','annotator_sentiment','target','group','HITId'],axis=1) #drop unnecessary cols"
   ]
  },
  {
   "cell_type": "code",
   "execution_count": 67,
   "id": "b3614f2a",
   "metadata": {
    "id": "b3614f2a"
   },
   "outputs": [],
   "source": [
    "ar_harass = ar_harass[ar_harass.sentiment != 'fearful']"
   ]
  },
  {
   "cell_type": "code",
   "execution_count": 68,
   "id": "bc1f190d",
   "metadata": {
    "colab": {
     "base_uri": "https://localhost:8080/",
     "height": 206
    },
    "id": "bc1f190d",
    "outputId": "0159dfbf-e966-4646-b97a-500e718e2092"
   },
   "outputs": [
    {
     "data": {
      "text/html": [
       "<div>\n",
       "<style scoped>\n",
       "    .dataframe tbody tr th:only-of-type {\n",
       "        vertical-align: middle;\n",
       "    }\n",
       "\n",
       "    .dataframe tbody tr th {\n",
       "        vertical-align: top;\n",
       "    }\n",
       "\n",
       "    .dataframe thead th {\n",
       "        text-align: right;\n",
       "    }\n",
       "</style>\n",
       "<table border=\"1\" class=\"dataframe\">\n",
       "  <thead>\n",
       "    <tr style=\"text-align: right;\">\n",
       "      <th></th>\n",
       "      <th>tweet</th>\n",
       "      <th>sentiment</th>\n",
       "    </tr>\n",
       "  </thead>\n",
       "  <tbody>\n",
       "    <tr>\n",
       "      <th>0</th>\n",
       "      <td>صلاة الفجر خير لك من ترديد بول البعير وسبي الن...</td>\n",
       "      <td>hateful_normal</td>\n",
       "    </tr>\n",
       "    <tr>\n",
       "      <th>1</th>\n",
       "      <td>صراحة نفسي اشوف ولاد الوسخة اللي قالوا مدرب اج...</td>\n",
       "      <td>offensive</td>\n",
       "    </tr>\n",
       "    <tr>\n",
       "      <th>2</th>\n",
       "      <td>طيب! هي متبرجة وعبايتها ملونه وطالعة من بيتهم ...</td>\n",
       "      <td>offensive</td>\n",
       "    </tr>\n",
       "    <tr>\n",
       "      <th>3</th>\n",
       "      <td>@user @user انا اوافقك بخصوص السوريين و العراق...</td>\n",
       "      <td>normal</td>\n",
       "    </tr>\n",
       "    <tr>\n",
       "      <th>4</th>\n",
       "      <td>هذه السعودية التي شعبها شعب الخيم و بول البعير...</td>\n",
       "      <td>normal</td>\n",
       "    </tr>\n",
       "  </tbody>\n",
       "</table>\n",
       "</div>"
      ],
      "text/plain": [
       "                                               tweet       sentiment\n",
       "0  صلاة الفجر خير لك من ترديد بول البعير وسبي الن...  hateful_normal\n",
       "1  صراحة نفسي اشوف ولاد الوسخة اللي قالوا مدرب اج...       offensive\n",
       "2  طيب! هي متبرجة وعبايتها ملونه وطالعة من بيتهم ...       offensive\n",
       "3  @user @user انا اوافقك بخصوص السوريين و العراق...          normal\n",
       "4  هذه السعودية التي شعبها شعب الخيم و بول البعير...          normal"
      ]
     },
     "execution_count": 68,
     "metadata": {},
     "output_type": "execute_result"
    }
   ],
   "source": [
    "ar_harass.head()"
   ]
  },
  {
   "cell_type": "code",
   "execution_count": 69,
   "id": "67f578f0",
   "metadata": {
    "id": "67f578f0"
   },
   "outputs": [],
   "source": [
    "z=list(ar_harass.sentiment.drop_duplicates())"
   ]
  },
  {
   "cell_type": "code",
   "execution_count": 70,
   "id": "0516b38e",
   "metadata": {
    "colab": {
     "base_uri": "https://localhost:8080/"
    },
    "id": "0516b38e",
    "outputId": "e8c9837f-ce76-47dc-adc2-ce95740f798b"
   },
   "outputs": [
    {
     "data": {
      "text/plain": [
       "['hateful_normal',\n",
       " 'offensive',\n",
       " 'normal',\n",
       " 'offensive_disrespectful',\n",
       " 'offensive_normal',\n",
       " 'hateful',\n",
       " 'abusive_disrespectful',\n",
       " 'abusive_hateful',\n",
       " 'disrespectful',\n",
       " 'abusive',\n",
       " 'disrespectful_normal',\n",
       " 'abusive_offensive',\n",
       " 'abusive_normal',\n",
       " 'offensive_hateful',\n",
       " 'abusive_offensive_hateful_disrespectful_normal',\n",
       " 'fearful_disrespectful_hateful_normal',\n",
       " 'abusive_offensive_disrespectful_hateful_normal',\n",
       " 'fearful_abusive_offensive_hateful_disrespectful',\n",
       " 'fearful_abusive_disrespectful_hateful_normal',\n",
       " 'fearful_abusive_offensive_disrespectful_normal',\n",
       " 'hateful_disrespectful',\n",
       " 'abusive_offensive_hateful_normal',\n",
       " 'fearful_offensive_disrespectful_hateful_normal',\n",
       " 'abusive_offensive_hateful_disrespectful',\n",
       " 'fearful_abusive_hateful_disrespectful_normal',\n",
       " 'fearful_normal',\n",
       " 'fearful_offensive_hateful_normal',\n",
       " 'abusive_disrespectful_hateful_normal',\n",
       " 'abusive_offensive_disrespectful_normal',\n",
       " 'hateful_disrespectful_normal',\n",
       " 'fearful_disrespectful',\n",
       " 'fearful_abusive_offensive_hateful_normal',\n",
       " 'offensive_hateful_disrespectful_normal',\n",
       " 'disrespectful_hateful',\n",
       " 'fearful_abusive_offensive_hateful',\n",
       " 'fearful_offensive_hateful_disrespectful_normal']"
      ]
     },
     "execution_count": 70,
     "metadata": {},
     "output_type": "execute_result"
    }
   ],
   "source": [
    "z"
   ]
  },
  {
   "cell_type": "code",
   "execution_count": 71,
   "id": "6434134c",
   "metadata": {
    "id": "6434134c"
   },
   "outputs": [],
   "source": [
    "z.remove('normal')"
   ]
  },
  {
   "cell_type": "code",
   "execution_count": 72,
   "id": "ef1ca984",
   "metadata": {
    "id": "ef1ca984"
   },
   "outputs": [],
   "source": [
    "ar_harass['sentiment']=ar_harass.sentiment.replace(z, 'offensive')"
   ]
  },
  {
   "cell_type": "code",
   "execution_count": 74,
   "id": "1ec0e32e",
   "metadata": {
    "colab": {
     "base_uri": "https://localhost:8080/",
     "height": 488
    },
    "id": "1ec0e32e",
    "outputId": "b250240f-e05f-4ef1-c736-861570cff3d8"
   },
   "outputs": [
    {
     "data": {
      "text/html": [
       "<div>\n",
       "<style scoped>\n",
       "    .dataframe tbody tr th:only-of-type {\n",
       "        vertical-align: middle;\n",
       "    }\n",
       "\n",
       "    .dataframe tbody tr th {\n",
       "        vertical-align: top;\n",
       "    }\n",
       "\n",
       "    .dataframe thead th {\n",
       "        text-align: right;\n",
       "    }\n",
       "</style>\n",
       "<table border=\"1\" class=\"dataframe\">\n",
       "  <thead>\n",
       "    <tr style=\"text-align: right;\">\n",
       "      <th></th>\n",
       "      <th>tweet</th>\n",
       "      <th>sentiment</th>\n",
       "    </tr>\n",
       "  </thead>\n",
       "  <tbody>\n",
       "    <tr>\n",
       "      <th>0</th>\n",
       "      <td>صلاة الفجر خير لك من ترديد بول البعير وسبي الن...</td>\n",
       "      <td>offensive</td>\n",
       "    </tr>\n",
       "    <tr>\n",
       "      <th>1</th>\n",
       "      <td>صراحة نفسي اشوف ولاد الوسخة اللي قالوا مدرب اج...</td>\n",
       "      <td>offensive</td>\n",
       "    </tr>\n",
       "    <tr>\n",
       "      <th>2</th>\n",
       "      <td>طيب! هي متبرجة وعبايتها ملونه وطالعة من بيتهم ...</td>\n",
       "      <td>offensive</td>\n",
       "    </tr>\n",
       "    <tr>\n",
       "      <th>3</th>\n",
       "      <td>@user @user انا اوافقك بخصوص السوريين و العراق...</td>\n",
       "      <td>normal</td>\n",
       "    </tr>\n",
       "    <tr>\n",
       "      <th>4</th>\n",
       "      <td>هذه السعودية التي شعبها شعب الخيم و بول البعير...</td>\n",
       "      <td>normal</td>\n",
       "    </tr>\n",
       "    <tr>\n",
       "      <th>5</th>\n",
       "      <td>ما عارف كنت شايفها منحرفة شديد وانا صغير ليه @url</td>\n",
       "      <td>offensive</td>\n",
       "    </tr>\n",
       "    <tr>\n",
       "      <th>6</th>\n",
       "      <td>@user @user تخيل يرد عليك يقولك حسب معلوماتنا ...</td>\n",
       "      <td>offensive</td>\n",
       "    </tr>\n",
       "    <tr>\n",
       "      <th>7</th>\n",
       "      <td>صباح التوكل على الله والسعي على رزقه والثقة في...</td>\n",
       "      <td>normal</td>\n",
       "    </tr>\n",
       "    <tr>\n",
       "      <th>8</th>\n",
       "      <td>وانتي مال امك يا مطلقة يا بايرة ياوش قنوات @url</td>\n",
       "      <td>offensive</td>\n",
       "    </tr>\n",
       "    <tr>\n",
       "      <th>9</th>\n",
       "      <td>@user @user الكردي كلب من يوم يومه بحاجة دائما...</td>\n",
       "      <td>offensive</td>\n",
       "    </tr>\n",
       "    <tr>\n",
       "      <th>10</th>\n",
       "      <td>@user و مدعمتهاش ليه فى كاس العالم يا جبان يا وسخ</td>\n",
       "      <td>offensive</td>\n",
       "    </tr>\n",
       "    <tr>\n",
       "      <th>11</th>\n",
       "      <td>خنازير فعلت فعلاً ..</td>\n",
       "      <td>offensive</td>\n",
       "    </tr>\n",
       "    <tr>\n",
       "      <th>12</th>\n",
       "      <td>لكن حرمة متبرجة تقف على المسرح وتغني امام الر…...</td>\n",
       "      <td>normal</td>\n",
       "    </tr>\n",
       "    <tr>\n",
       "      <th>14</th>\n",
       "      <td>ي قصارية ي بايرة</td>\n",
       "      <td>offensive</td>\n",
       "    </tr>\n",
       "  </tbody>\n",
       "</table>\n",
       "</div>"
      ],
      "text/plain": [
       "                                                tweet  sentiment\n",
       "0   صلاة الفجر خير لك من ترديد بول البعير وسبي الن...  offensive\n",
       "1   صراحة نفسي اشوف ولاد الوسخة اللي قالوا مدرب اج...  offensive\n",
       "2   طيب! هي متبرجة وعبايتها ملونه وطالعة من بيتهم ...  offensive\n",
       "3   @user @user انا اوافقك بخصوص السوريين و العراق...     normal\n",
       "4   هذه السعودية التي شعبها شعب الخيم و بول البعير...     normal\n",
       "5   ما عارف كنت شايفها منحرفة شديد وانا صغير ليه @url  offensive\n",
       "6   @user @user تخيل يرد عليك يقولك حسب معلوماتنا ...  offensive\n",
       "7   صباح التوكل على الله والسعي على رزقه والثقة في...     normal\n",
       "8     وانتي مال امك يا مطلقة يا بايرة ياوش قنوات @url  offensive\n",
       "9   @user @user الكردي كلب من يوم يومه بحاجة دائما...  offensive\n",
       "10  @user و مدعمتهاش ليه فى كاس العالم يا جبان يا وسخ  offensive\n",
       "11                               خنازير فعلت فعلاً ..  offensive\n",
       "12  لكن حرمة متبرجة تقف على المسرح وتغني امام الر…...     normal\n",
       "14                                   ي قصارية ي بايرة  offensive"
      ]
     },
     "execution_count": 74,
     "metadata": {},
     "output_type": "execute_result"
    }
   ],
   "source": [
    "ar_harass.head(14)"
   ]
  },
  {
   "cell_type": "code",
   "execution_count": 75,
   "id": "4ecb7d52",
   "metadata": {
    "colab": {
     "base_uri": "https://localhost:8080/"
    },
    "id": "4ecb7d52",
    "outputId": "60b88d95-9be7-41e0-ba4f-15eea5fb25d1"
   },
   "outputs": [
    {
     "data": {
      "text/plain": [
       "sentiment\n",
       "offensive    2426\n",
       "normal        915\n",
       "Name: count, dtype: int64"
      ]
     },
     "execution_count": 75,
     "metadata": {},
     "output_type": "execute_result"
    }
   ],
   "source": [
    "ar_harass['sentiment'].value_counts()"
   ]
  },
  {
   "cell_type": "code",
   "execution_count": 76,
   "id": "9cbc1995",
   "metadata": {
    "colab": {
     "base_uri": "https://localhost:8080/"
    },
    "id": "9cbc1995",
    "outputId": "d1da4d84-33d5-415f-df66-11ad214fb9c8"
   },
   "outputs": [
    {
     "data": {
      "text/plain": [
       "tweet        0\n",
       "sentiment    0\n",
       "dtype: int64"
      ]
     },
     "execution_count": 76,
     "metadata": {},
     "output_type": "execute_result"
    }
   ],
   "source": [
    "#check missing values\n",
    "ar_harass.isna().sum()"
   ]
  },
  {
   "cell_type": "code",
   "execution_count": 77,
   "id": "dbd0d0e6",
   "metadata": {
    "colab": {
     "base_uri": "https://localhost:8080/"
    },
    "id": "dbd0d0e6",
    "outputId": "d73f4e34-6894-4e61-9c91-b0e06675eacb"
   },
   "outputs": [
    {
     "data": {
      "text/plain": [
       "(3341, 2)"
      ]
     },
     "execution_count": 77,
     "metadata": {},
     "output_type": "execute_result"
    }
   ],
   "source": [
    "#data shape\n",
    "ar_harass.shape"
   ]
  },
  {
   "cell_type": "code",
   "execution_count": 78,
   "id": "a2d8ad64",
   "metadata": {
    "colab": {
     "base_uri": "https://localhost:8080/",
     "height": 206
    },
    "id": "a2d8ad64",
    "outputId": "e57558a6-6e9b-441b-bc4a-886daaf27adf"
   },
   "outputs": [
    {
     "data": {
      "text/html": [
       "<div>\n",
       "<style scoped>\n",
       "    .dataframe tbody tr th:only-of-type {\n",
       "        vertical-align: middle;\n",
       "    }\n",
       "\n",
       "    .dataframe tbody tr th {\n",
       "        vertical-align: top;\n",
       "    }\n",
       "\n",
       "    .dataframe thead th {\n",
       "        text-align: right;\n",
       "    }\n",
       "</style>\n",
       "<table border=\"1\" class=\"dataframe\">\n",
       "  <thead>\n",
       "    <tr style=\"text-align: right;\">\n",
       "      <th></th>\n",
       "      <th>tweet</th>\n",
       "      <th>sentiment</th>\n",
       "    </tr>\n",
       "  </thead>\n",
       "  <tbody>\n",
       "    <tr>\n",
       "      <th>0</th>\n",
       "      <td>صلاة الفجر خير لك من ترديد بول البعير وسبي الن...</td>\n",
       "      <td>offensive</td>\n",
       "    </tr>\n",
       "    <tr>\n",
       "      <th>1</th>\n",
       "      <td>صراحة نفسي اشوف ولاد الوسخة اللي قالوا مدرب اج...</td>\n",
       "      <td>offensive</td>\n",
       "    </tr>\n",
       "    <tr>\n",
       "      <th>2</th>\n",
       "      <td>طيب! هي متبرجة وعبايتها ملونه وطالعة من بيتهم ...</td>\n",
       "      <td>offensive</td>\n",
       "    </tr>\n",
       "    <tr>\n",
       "      <th>3</th>\n",
       "      <td>@user @user انا اوافقك بخصوص السوريين و العراق...</td>\n",
       "      <td>normal</td>\n",
       "    </tr>\n",
       "    <tr>\n",
       "      <th>4</th>\n",
       "      <td>هذه السعودية التي شعبها شعب الخيم و بول البعير...</td>\n",
       "      <td>normal</td>\n",
       "    </tr>\n",
       "  </tbody>\n",
       "</table>\n",
       "</div>"
      ],
      "text/plain": [
       "                                               tweet  sentiment\n",
       "0  صلاة الفجر خير لك من ترديد بول البعير وسبي الن...  offensive\n",
       "1  صراحة نفسي اشوف ولاد الوسخة اللي قالوا مدرب اج...  offensive\n",
       "2  طيب! هي متبرجة وعبايتها ملونه وطالعة من بيتهم ...  offensive\n",
       "3  @user @user انا اوافقك بخصوص السوريين و العراق...     normal\n",
       "4  هذه السعودية التي شعبها شعب الخيم و بول البعير...     normal"
      ]
     },
     "execution_count": 78,
     "metadata": {},
     "output_type": "execute_result"
    }
   ],
   "source": [
    "ar_harass.head()"
   ]
  },
  {
   "cell_type": "code",
   "execution_count": 79,
   "id": "eaceb9cc",
   "metadata": {
    "colab": {
     "base_uri": "https://localhost:8080/"
    },
    "id": "eaceb9cc",
    "outputId": "9e46f160-a866-4106-c413-09a2e2fbcce8"
   },
   "outputs": [],
   "source": [
    "# #text preprocessing\n",
    "# import nltk\n",
    "# nltk.download('all')"
   ]
  },
  {
   "cell_type": "code",
   "execution_count": 80,
   "id": "360751aa",
   "metadata": {
    "colab": {
     "base_uri": "https://localhost:8080/"
    },
    "id": "360751aa",
    "outputId": "282ca4e9-c152-4953-ed5d-858216dff3bb"
   },
   "outputs": [],
   "source": [
    "#%pip install camel-tools\n",
    "# %pip install textblob"
   ]
  },
  {
   "cell_type": "code",
   "execution_count": 81,
   "id": "29b58bf4",
   "metadata": {
    "id": "29b58bf4"
   },
   "outputs": [],
   "source": [
    "#Text standarisation\n",
    "from nltk.corpus import stopwords\n",
    "from textblob import TextBlob\n",
    "import re\n",
    "from tashaphyne.stemming import ArabicLightStemmer\n",
    "from nltk.stem.isri import ISRIStemmer\n",
    "\n",
    "stops = set(stopwords.words(\"arabic\"))\n",
    "stop_word_comp = {\"،\",\"آض\",\"آمينَ\",\"آه\",\"آهاً\",\"آي\",\"أ\",\"أب\",\"أجل\",\"أجمع\",\"أخ\",\"أخذ\",\"أصبح\",\"أضحى\",\"أقبل\",\"أقل\",\"أكثر\",\"ألا\",\"أم\",\"أما\",\"أمامك\",\"أمامكَ\",\"أمسى\",\"أمّا\",\"أن\",\"أنا\",\"أنت\",\"أنتم\",\"أنتما\",\"أنتن\",\"أنتِ\",\"أنشأ\",\"أنّى\",\"أو\",\"أوشك\",\"أولئك\",\"أولئكم\",\"أولاء\",\"أولالك\",\"أوّهْ\",\"أي\",\"أيا\",\"أين\",\"أينما\",\"أيّ\",\"أَنَّ\",\"أََيُّ\",\"أُفٍّ\",\"إذ\",\"إذا\",\"إذاً\",\"إذما\",\"إذن\",\"إلى\",\"إليكم\",\"إليكما\",\"إليكنّ\",\"إليكَ\",\"إلَيْكَ\",\"إلّا\",\"إمّا\",\"إن\",\"إنّما\",\"إي\",\"إياك\",\"إياكم\",\"إياكما\",\"إياكن\",\"إيانا\",\"إياه\",\"إياها\",\"إياهم\",\"إياهما\",\"إياهن\",\"إياي\",\"إيهٍ\",\"إِنَّ\",\"ا\",\"ابتدأ\",\"اثر\",\"اجل\",\"احد\",\"اخرى\",\"اخلولق\",\"اذا\",\"اربعة\",\"ارتدّ\",\"استحال\",\"اطار\",\"اعادة\",\"اعلنت\",\"اف\",\"اكثر\",\"اكد\",\"الألاء\",\"الألى\",\"الا\",\"الاخيرة\",\"الان\",\"الاول\",\"الاولى\",\"التى\",\"التي\",\"الثاني\",\"الثانية\",\"الذاتي\",\"الذى\",\"الذي\",\"الذين\",\"السابق\",\"الف\",\"اللائي\",\"اللاتي\",\"اللتان\",\"اللتيا\",\"اللتين\",\"اللذان\",\"اللذين\",\"اللواتي\",\"الماضي\",\"المقبل\",\"الوقت\",\"الى\",\"اليوم\",\"اما\",\"امام\",\"امس\",\"ان\",\"انبرى\",\"انقلب\",\"انه\",\"انها\",\"او\",\"اول\",\"اي\",\"ايار\",\"ايام\",\"ايضا\",\"ب\",\"بات\",\"باسم\",\"بان\",\"بخٍ\",\"برس\",\"بسبب\",\"بسّ\",\"بشكل\",\"بضع\",\"بطآن\",\"بعد\",\"بعض\",\"بك\",\"بكم\",\"بكما\",\"بكن\",\"بل\",\"بلى\",\"بما\",\"بماذا\",\"بمن\",\"بن\",\"بنا\",\"به\",\"بها\",\"بي\",\"بيد\",\"بين\",\"بَسْ\",\"بَلْهَ\",\"بِئْسَ\",\"تانِ\",\"تانِك\",\"تبدّل\",\"تجاه\",\"تحوّل\",\"تلقاء\",\"تلك\",\"تلكم\",\"تلكما\",\"تم\",\"تينك\",\"تَيْنِ\",\"تِه\",\"تِي\",\"ثلاثة\",\"ثم\",\"ثمّ\",\"ثمّة\",\"ثُمَّ\",\"جعل\",\"جلل\",\"جميع\",\"جير\",\"حار\",\"حاشا\",\"حاليا\",\"حاي\",\"حتى\",\"حرى\",\"حسب\",\"حم\",\"حوالى\",\"حول\",\"حيث\",\"حيثما\",\"حين\",\"حيَّ\",\"حَبَّذَا\",\"حَتَّى\",\"حَذارِ\",\"خلا\",\"خلال\",\"دون\",\"دونك\",\"ذا\",\"ذات\",\"ذاك\",\"ذانك\",\"ذانِ\",\"ذلك\",\"ذلكم\",\"ذلكما\",\"ذلكن\",\"ذو\",\"ذوا\",\"ذواتا\",\"ذواتي\",\"ذيت\",\"ذينك\",\"ذَيْنِ\",\"ذِه\",\"ذِي\",\"راح\",\"رجع\",\"رويدك\",\"ريث\",\"رُبَّ\",\"زيارة\",\"سبحان\",\"سرعان\",\"سنة\",\"سنوات\",\"سوف\",\"سوى\",\"سَاءَ\",\"سَاءَمَا\",\"شبه\",\"شخصا\",\"شرع\",\"شَتَّانَ\",\"صار\",\"صباح\",\"صفر\",\"صهٍ\",\"صهْ\",\"ضد\",\"ضمن\",\"طاق\",\"طالما\",\"طفق\",\"طَق\",\"ظلّ\",\"عاد\",\"عام\",\"عاما\",\"عامة\",\"عدا\",\"عدة\",\"عدد\",\"عدم\",\"عسى\",\"عشر\",\"عشرة\",\"علق\",\"على\",\"عليك\",\"عليه\",\"عليها\",\"علًّ\",\"عن\",\"عند\",\"عندما\",\"عوض\",\"عين\",\"عَدَسْ\",\"عَمَّا\",\"غدا\",\"غير\",\"ـ\",\"ف\",\"فان\",\"فلان\",\"فو\",\"فى\",\"في\",\"فيم\",\"فيما\",\"فيه\",\"فيها\",\"قال\",\"قام\",\"قبل\",\"قد\",\"قطّ\",\"قلما\",\"قوة\",\"كأنّما\",\"كأين\",\"كأيّ\",\"كأيّن\",\"كاد\",\"كان\",\"كانت\",\"كذا\",\"كذلك\",\"كرب\",\"كل\",\"كلا\",\"كلاهما\",\"كلتا\",\"كلم\",\"كليكما\",\"كليهما\",\"كلّما\",\"كلَّا\",\"كم\",\"كما\",\"كي\",\"كيت\",\"كيف\",\"كيفما\",\"كَأَنَّ\",\"كِخ\",\"لئن\",\"لا\",\"لات\",\"لاسيما\",\"لدن\",\"لدى\",\"لعمر\",\"لقاء\",\"لك\",\"لكم\",\"لكما\",\"لكن\",\"لكنَّما\",\"لكي\",\"لكيلا\",\"للامم\",\"لم\",\"لما\",\"لمّا\",\"لن\",\"لنا\",\"له\",\"لها\",\"لو\",\"لوكالة\",\"لولا\",\"لوما\",\"لي\",\"لَسْتَ\",\"لَسْتُ\",\"لَسْتُم\",\"لَسْتُمَا\",\"لَسْتُنَّ\",\"لَسْتِ\",\"لَسْنَ\",\"لَعَلَّ\",\"لَكِنَّ\",\"لَيْتَ\",\"لَيْسَ\",\"لَيْسَا\",\"لَيْسَتَا\",\"لَيْسَتْ\",\"لَيْسُوا\",\"لَِسْنَا\",\"ما\",\"ماانفك\",\"مابرح\",\"مادام\",\"ماذا\",\"مازال\",\"مافتئ\",\"مايو\",\"متى\",\"مثل\",\"مذ\",\"مساء\",\"مع\",\"معاذ\",\"مقابل\",\"مكانكم\",\"مكانكما\",\"مكانكنّ\",\"مكانَك\",\"مليار\",\"مليون\",\"مما\",\"ممن\",\"من\",\"منذ\",\"منها\",\"مه\",\"مهما\",\"مَنْ\",\"مِن\",\"نحن\",\"نحو\",\"نعم\",\"نفس\",\"نفسه\",\"نهاية\",\"نَخْ\",\"نِعِمّا\",\"نِعْمَ\",\"ها\",\"هاؤم\",\"هاكَ\",\"هاهنا\",\"هبّ\",\"هذا\",\"هذه\",\"هكذا\",\"هل\",\"هلمَّ\",\"هلّا\",\"هم\",\"هما\",\"هن\",\"هنا\",\"هناك\",\"هنالك\",\"هو\",\"هي\",\"هيا\",\"هيت\",\"هيّا\",\"هَؤلاء\",\"هَاتانِ\",\"هَاتَيْنِ\",\"هَاتِه\",\"هَاتِي\",\"هَجْ\",\"هَذا\",\"هَذانِ\",\"هَذَيْنِ\",\"هَذِه\",\"هَذِي\",\"هَيْهَاتَ\",\"و\",\"و6\",\"وا\",\"واحد\",\"واضاف\",\"واضافت\",\"واكد\",\"وان\",\"واهاً\",\"واوضح\",\"وراءَك\",\"وفي\",\"وقال\",\"وقالت\",\"وقد\",\"وقف\",\"وكان\",\"وكانت\",\"ولا\",\"ولم\",\"ومن\",\"مَن\",\"وهو\",\"وهي\",\"ويكأنّ\",\"وَيْ\",\"وُشْكَانََ\",\"يكون\",\"يمكن\",\"يوم\",\"ّأيّان\"}\n",
    "ArListem = ArabicLightStemmer()\n"
   ]
  },
  {
   "cell_type": "code",
   "execution_count": 82,
   "id": "5d4525c5",
   "metadata": {
    "id": "5d4525c5"
   },
   "outputs": [],
   "source": [
    "processor=ArabertPreprocessor(model_name='aubmindlab/araelectra-base-discriminator')\n",
    "processed_text=processor.preprocess(ar_harass['tweet'])"
   ]
  },
  {
   "cell_type": "code",
   "execution_count": 83,
   "id": "325b85a4",
   "metadata": {
    "colab": {
     "base_uri": "https://localhost:8080/",
     "height": 88
    },
    "id": "325b85a4",
    "outputId": "77c76904-d6da-49f6-e047-ac4ef6b76b06"
   },
   "outputs": [
    {
     "data": {
      "text/plain": [
       "'0 صلاة الفجر خير لك من ترديد بول البعير وسبي الن . . 1 صراحة نفسي اشوف ولاد الوسخة اللي قالوا مدرب اج . . 2 طيب ! هي متبرجة وعبايتها ملونه وطالعة من بيتهم . . 3 [مستخدم] [مستخدم] انا اوافقك بخصوص السوريين و العراق . . 4 هذه السعودية التي شعبها شعب الخيم و بول البعير . . . . 3348 [مستخدم] يمشي بخطا ادارتها قيد من الأمريكان ونهب . . 3349 [مستخدم] مهما حصل هندوس عليهم شويه الرويبضه بس نخ . . 3350 الكلب لا يعض اذن اخوه كذابين خنازير [مستخدم] 3351 [مستخدم] لأنه صغير ويكتب في قناة خنازير فلن نقرأ . . 3352 الحريم أجمع افلوس وايفون قديم وواتساب 24 ساعة Name : tweet , Length : 3341 , dtype : object'"
      ]
     },
     "execution_count": 83,
     "metadata": {},
     "output_type": "execute_result"
    }
   ],
   "source": [
    "processed_text"
   ]
  },
  {
   "cell_type": "code",
   "execution_count": 84,
   "id": "04e9dbb2",
   "metadata": {
    "id": "04e9dbb2"
   },
   "outputs": [],
   "source": [
    "def stem(text):\n",
    "    zen = TextBlob(text)\n",
    "    words = zen.words\n",
    "    cleaned = list()\n",
    "    for w in words:\n",
    "        ArListem.light_stem(w)\n",
    "        cleaned.append(ArListem.get_root())\n",
    "    return \" \".join(cleaned)"
   ]
  },
  {
   "cell_type": "code",
   "execution_count": 85,
   "id": "9c360552",
   "metadata": {
    "id": "9c360552"
   },
   "outputs": [],
   "source": [
    "import pyarabic.araby as araby\n",
    "def normalizeArabic(text):\n",
    "    text = text.strip()\n",
    "    text = re.sub(\"[إأٱآا]\", \"ا\", text)\n",
    "    text = re.sub(\"ى\", \"ي\", text)\n",
    "    text = re.sub(\"ؤ\", \"ء\", text)\n",
    "    text = re.sub(\"ئ\", \"ء\", text)\n",
    "    text = re.sub(\"ة\", \"ه\", text)\n",
    "    noise = re.compile(\"\"\" ّ    | # Tashdid\n",
    "                             َ    | # Fatha\n",
    "                             ً    | # Tanwin Fath\n",
    "                             ُ    | # Damma\n",
    "                             ٌ    | # Tanwin Damm\n",
    "                             ِ    | # Kasra\n",
    "                             ٍ    | # Tanwin Kasr\n",
    "                             ْ    | # Sukun\n",
    "                             ـ     # Tatwil/Kashida\n",
    "                         \"\"\", re.VERBOSE)\n",
    "    text = re.sub(noise, '', text)\n",
    "    text = re.sub(r'(.)\\1+', r\"\\1\\1\", text) # Remove longation\n",
    "    return araby.strip_tashkeel(text)"
   ]
  },
  {
   "cell_type": "code",
   "execution_count": 86,
   "id": "623ea2c7",
   "metadata": {
    "id": "623ea2c7"
   },
   "outputs": [],
   "source": [
    "def remove_stop_words(text):\n",
    "    zen = TextBlob(text)\n",
    "    words = zen.words\n",
    "    return \" \".join([w for w in words if not w in stops and not w in stop_word_comp and len(w) >= 2])"
   ]
  },
  {
   "cell_type": "code",
   "execution_count": 87,
   "id": "a55ab85b",
   "metadata": {
    "id": "a55ab85b"
   },
   "outputs": [],
   "source": [
    "#Deal with Hashtags in a string\n",
    "def split_hashtag_to_words(tag):\n",
    "    tag = tag.replace('#','')\n",
    "    tags = tag.split('_')\n",
    "    if len(tags) > 1 :\n",
    "\n",
    "        return tags\n",
    "    pattern = re.compile(r\"[A-Z][a-z]+|\\d+|[A-Z]+(?![a-z])\")\n",
    "    return pattern.findall(tag)\n",
    "\n",
    "def clean_hashtag(text):\n",
    "    words = text.split()\n",
    "    text = list()\n",
    "    for word in words:\n",
    "        if is_hashtag(word):\n",
    "            text.extend(extract_hashtag(word))\n",
    "        else:\n",
    "            text.append(word)\n",
    "    return \" \".join(text)\n",
    "def is_hashtag(word):\n",
    "    if word.startswith(\"#\"):\n",
    "        return True\n",
    "    else:\n",
    "        return False\n",
    "def extract_hashtag(text):\n",
    "\n",
    "    hash_list = ([re.sub(r\"(\\W+)$\", \"\", i) for i in text.split() if i.startswith(\"#\")])\n",
    "    word_list = []\n",
    "    for word in hash_list :\n",
    "        word_list.extend(split_hashtag_to_words(word))\n",
    "    return word_list"
   ]
  },
  {
   "cell_type": "code",
   "execution_count": 88,
   "id": "2493cfd8",
   "metadata": {
    "id": "2493cfd8"
   },
   "outputs": [],
   "source": [
    "#Dealing with emojis in a string\n",
    "with open('emojis.csv','r',encoding='utf-8') as f:\n",
    "    lines = f.readlines()\n",
    "    emojis_ar = {}\n",
    "    for line in lines:\n",
    "        line = line.strip('\\n').split(';')\n",
    "        emojis_ar.update({line[0].strip():line[1].strip()})"
   ]
  },
  {
   "cell_type": "code",
   "execution_count": 89,
   "id": "a436608d",
   "metadata": {
    "id": "a436608d"
   },
   "outputs": [],
   "source": [
    "from __future__ import unicode_literals\n",
    "\n",
    "def remove_emoji(text):\n",
    "    emoji_pattern = re.compile(\"[\"\n",
    "                                   u\"\\U0001F600-\\U0001F64F\"  # emoticons\n",
    "                                   u\"\\U0001F300-\\U0001F5FF\"  # symbols & pictographs\n",
    "                                   u\"\\U0001F680-\\U0001F6FF\"  # transport & map symbols\n",
    "                                   u\"\\U0001F1E0-\\U0001F1FF\"  # flags (iOS)\n",
    "                                   u\"\\U00002702-\\U000027B0\"\n",
    "                                   u\"\\U000024C2-\\U0001F251\"\n",
    "                                   \"]+\", flags=re.UNICODE)\n",
    "    text = emoji_pattern.sub(r'', text)\n",
    "    return text"
   ]
  },
  {
   "cell_type": "code",
   "execution_count": 90,
   "id": "e64f4e38",
   "metadata": {
    "id": "e64f4e38"
   },
   "outputs": [],
   "source": [
    "import emoji\n",
    "def is_emoji(word):\n",
    "    if word in emojis_ar:\n",
    "        return True\n",
    "    else:\n",
    "        return False"
   ]
  },
  {
   "cell_type": "code",
   "execution_count": 91,
   "id": "a787c610",
   "metadata": {
    "id": "a787c610"
   },
   "outputs": [],
   "source": [
    "def add_space(text):\n",
    "    return ''.join(' ' + char if is_emoji(char) else char for char in text).strip()"
   ]
  },
  {
   "cell_type": "code",
   "execution_count": 92,
   "id": "f1302ede",
   "metadata": {
    "id": "f1302ede"
   },
   "outputs": [],
   "source": [
    "def clean_tweet(text):\n",
    "    text = re.sub('#\\d+K\\d+', ' ', text)  # years like 2K19\n",
    "    text = re.sub('http\\S+\\s*', ' ', text)  # remove URLs\n",
    "    text = re.sub('RT|cc', ' ', text)  # remove RT and cc\n",
    "    text = re.sub('@[^\\s]+',' ',text)\n",
    "    text = clean_hashtag(text)\n",
    "    return text"
   ]
  },
  {
   "cell_type": "code",
   "execution_count": 93,
   "id": "2619d0b7",
   "metadata": {
    "id": "2619d0b7"
   },
   "outputs": [],
   "source": [
    "def clean_text(text):\n",
    "    ## Clean for tweets\n",
    "    text = clean_tweet(text)\n",
    "    ## Remove punctuations\n",
    "    text = re.sub('[%s]' % re.escape(\"\"\"!\"#$%&'()*+,،-./:;<=>؟?@[\\]^_`{|}~\"\"\"), ' ', text)  # remove punctuation\n",
    "    ## remove extra whitespace\n",
    "    text = re.sub('\\s+', ' ', text)\n",
    "    ## Remove Emojis\n",
    "    text = remove_emoji(text)\n",
    "    ## Convert text to lowercases\n",
    "    text = text.lower()\n",
    "    ## Arabisy the text\n",
    "    #text = to_arabic(text)\n",
    "    ## Remove stop words\n",
    "    text = remove_stop_words(text)\n",
    "    ## Remove numbers\n",
    "    text = re.sub(\"\\d+\", \" \", text)\n",
    "    ## Remove Tashkeel\n",
    "    text = normalizeArabic(text)\n",
    "    #text = re.sub('\\W+', ' ', text)\n",
    "    text = re.sub('[A-Za-z]+',' ',text)\n",
    "    text = re.sub(r'\\\\u[A-Za-z0-9\\\\]+',' ',text)\n",
    "    ## remove extra whitespace\n",
    "    text = re.sub('\\s+', ' ', text)\n",
    "    #Stemming\n",
    "    #text = stem(text)\n",
    "    return text"
   ]
  },
  {
   "cell_type": "code",
   "execution_count": 94,
   "id": "57a9fd0a",
   "metadata": {
    "id": "57a9fd0a"
   },
   "outputs": [],
   "source": [
    "ar_harass['tweet'] = ar_harass['tweet'].apply(lambda x:clean_text(x))"
   ]
  },
  {
   "cell_type": "code",
   "execution_count": 95,
   "id": "302c5723",
   "metadata": {
    "colab": {
     "base_uri": "https://localhost:8080/",
     "height": 206
    },
    "id": "302c5723",
    "outputId": "6ee2ee4e-fe17-4954-bce1-bb91e7c5f7b2"
   },
   "outputs": [
    {
     "data": {
      "text/html": [
       "<div>\n",
       "<style scoped>\n",
       "    .dataframe tbody tr th:only-of-type {\n",
       "        vertical-align: middle;\n",
       "    }\n",
       "\n",
       "    .dataframe tbody tr th {\n",
       "        vertical-align: top;\n",
       "    }\n",
       "\n",
       "    .dataframe thead th {\n",
       "        text-align: right;\n",
       "    }\n",
       "</style>\n",
       "<table border=\"1\" class=\"dataframe\">\n",
       "  <thead>\n",
       "    <tr style=\"text-align: right;\">\n",
       "      <th></th>\n",
       "      <th>tweet</th>\n",
       "      <th>sentiment</th>\n",
       "    </tr>\n",
       "  </thead>\n",
       "  <tbody>\n",
       "    <tr>\n",
       "      <th>0</th>\n",
       "      <td>صلاه الفجر خير ترديد بول البعير وسبي النساء وا...</td>\n",
       "      <td>offensive</td>\n",
       "    </tr>\n",
       "    <tr>\n",
       "      <th>1</th>\n",
       "      <td>نفسي اشوف ولاد الوسخه اللي قالوا مدرب اجنبي من...</td>\n",
       "      <td>offensive</td>\n",
       "    </tr>\n",
       "    <tr>\n",
       "      <th>2</th>\n",
       "      <td>طيب متبرجه وعبايتها ملونه وطالعه بيتهم بدون</td>\n",
       "      <td>offensive</td>\n",
       "    </tr>\n",
       "    <tr>\n",
       "      <th>3</th>\n",
       "      <td>انا اوافقك بخصوص السوريين العراقيين بخصوص السع...</td>\n",
       "      <td>normal</td>\n",
       "    </tr>\n",
       "    <tr>\n",
       "      <th>4</th>\n",
       "      <td>السعوديه شعبها شعب الخيم بول البعير يستهزا الناس</td>\n",
       "      <td>normal</td>\n",
       "    </tr>\n",
       "  </tbody>\n",
       "</table>\n",
       "</div>"
      ],
      "text/plain": [
       "                                               tweet  sentiment\n",
       "0  صلاه الفجر خير ترديد بول البعير وسبي النساء وا...  offensive\n",
       "1  نفسي اشوف ولاد الوسخه اللي قالوا مدرب اجنبي من...  offensive\n",
       "2        طيب متبرجه وعبايتها ملونه وطالعه بيتهم بدون  offensive\n",
       "3  انا اوافقك بخصوص السوريين العراقيين بخصوص السع...     normal\n",
       "4   السعوديه شعبها شعب الخيم بول البعير يستهزا الناس     normal"
      ]
     },
     "execution_count": 95,
     "metadata": {},
     "output_type": "execute_result"
    }
   ],
   "source": [
    "ar_harass.head()"
   ]
  },
  {
   "cell_type": "code",
   "execution_count": 96,
   "id": "6c2f34c8",
   "metadata": {
    "id": "6c2f34c8"
   },
   "outputs": [],
   "source": [
    "#train-test-split\n",
    "#create feature and label sets\n",
    "x=ar_harass['tweet']\n",
    "y=ar_harass['sentiment']\n",
    "from sklearn.model_selection import train_test_split\n",
    "x_train, x_test, y_train, y_test=train_test_split(x,y,test_size=0.20,random_state=123)"
   ]
  },
  {
   "cell_type": "code",
   "execution_count": 97,
   "id": "096af624",
   "metadata": {
    "id": "096af624"
   },
   "outputs": [],
   "source": [
    "from sklearn.preprocessing import LabelEncoder\n",
    "encoder=LabelEncoder()\n",
    "ar_harass['sentiment']=encoder.fit_transform(ar_harass['sentiment'])"
   ]
  },
  {
   "cell_type": "code",
   "execution_count": 98,
   "id": "796c43ec",
   "metadata": {
    "colab": {
     "base_uri": "https://localhost:8080/"
    },
    "id": "796c43ec",
    "outputId": "7971e67c-304c-4f6b-ea7c-bcfa35bdbec4"
   },
   "outputs": [
    {
     "data": {
      "text/plain": [
       "0       1\n",
       "1       1\n",
       "2       1\n",
       "3       0\n",
       "4       0\n",
       "       ..\n",
       "3348    1\n",
       "3349    1\n",
       "3350    1\n",
       "3351    1\n",
       "3352    0\n",
       "Name: sentiment, Length: 3341, dtype: int32"
      ]
     },
     "execution_count": 98,
     "metadata": {},
     "output_type": "execute_result"
    }
   ],
   "source": [
    "ar_harass['sentiment']"
   ]
  },
  {
   "cell_type": "code",
   "execution_count": 99,
   "id": "44ea02bc",
   "metadata": {
    "id": "44ea02bc"
   },
   "outputs": [],
   "source": [
    "#feature extraction\n",
    "#train using bag of words\n",
    "from sklearn.feature_extraction.text import CountVectorizer\n",
    "cv=CountVectorizer()\n",
    "x_train_cv=cv.fit_transform(x_train)"
   ]
  },
  {
   "cell_type": "code",
   "execution_count": 100,
   "id": "77238f2a",
   "metadata": {
    "colab": {
     "base_uri": "https://localhost:8080/",
     "height": 74
    },
    "id": "77238f2a",
    "outputId": "fde65d22-278f-47d7-fd9d-f8ce3cb22b72",
    "scrolled": true
   },
   "outputs": [
    {
     "data": {
      "text/html": [
       "<style>#sk-container-id-3 {color: black;}#sk-container-id-3 pre{padding: 0;}#sk-container-id-3 div.sk-toggleable {background-color: white;}#sk-container-id-3 label.sk-toggleable__label {cursor: pointer;display: block;width: 100%;margin-bottom: 0;padding: 0.3em;box-sizing: border-box;text-align: center;}#sk-container-id-3 label.sk-toggleable__label-arrow:before {content: \"▸\";float: left;margin-right: 0.25em;color: #696969;}#sk-container-id-3 label.sk-toggleable__label-arrow:hover:before {color: black;}#sk-container-id-3 div.sk-estimator:hover label.sk-toggleable__label-arrow:before {color: black;}#sk-container-id-3 div.sk-toggleable__content {max-height: 0;max-width: 0;overflow: hidden;text-align: left;background-color: #f0f8ff;}#sk-container-id-3 div.sk-toggleable__content pre {margin: 0.2em;color: black;border-radius: 0.25em;background-color: #f0f8ff;}#sk-container-id-3 input.sk-toggleable__control:checked~div.sk-toggleable__content {max-height: 200px;max-width: 100%;overflow: auto;}#sk-container-id-3 input.sk-toggleable__control:checked~label.sk-toggleable__label-arrow:before {content: \"▾\";}#sk-container-id-3 div.sk-estimator input.sk-toggleable__control:checked~label.sk-toggleable__label {background-color: #d4ebff;}#sk-container-id-3 div.sk-label input.sk-toggleable__control:checked~label.sk-toggleable__label {background-color: #d4ebff;}#sk-container-id-3 input.sk-hidden--visually {border: 0;clip: rect(1px 1px 1px 1px);clip: rect(1px, 1px, 1px, 1px);height: 1px;margin: -1px;overflow: hidden;padding: 0;position: absolute;width: 1px;}#sk-container-id-3 div.sk-estimator {font-family: monospace;background-color: #f0f8ff;border: 1px dotted black;border-radius: 0.25em;box-sizing: border-box;margin-bottom: 0.5em;}#sk-container-id-3 div.sk-estimator:hover {background-color: #d4ebff;}#sk-container-id-3 div.sk-parallel-item::after {content: \"\";width: 100%;border-bottom: 1px solid gray;flex-grow: 1;}#sk-container-id-3 div.sk-label:hover label.sk-toggleable__label {background-color: #d4ebff;}#sk-container-id-3 div.sk-serial::before {content: \"\";position: absolute;border-left: 1px solid gray;box-sizing: border-box;top: 0;bottom: 0;left: 50%;z-index: 0;}#sk-container-id-3 div.sk-serial {display: flex;flex-direction: column;align-items: center;background-color: white;padding-right: 0.2em;padding-left: 0.2em;position: relative;}#sk-container-id-3 div.sk-item {position: relative;z-index: 1;}#sk-container-id-3 div.sk-parallel {display: flex;align-items: stretch;justify-content: center;background-color: white;position: relative;}#sk-container-id-3 div.sk-item::before, #sk-container-id-3 div.sk-parallel-item::before {content: \"\";position: absolute;border-left: 1px solid gray;box-sizing: border-box;top: 0;bottom: 0;left: 50%;z-index: -1;}#sk-container-id-3 div.sk-parallel-item {display: flex;flex-direction: column;z-index: 1;position: relative;background-color: white;}#sk-container-id-3 div.sk-parallel-item:first-child::after {align-self: flex-end;width: 50%;}#sk-container-id-3 div.sk-parallel-item:last-child::after {align-self: flex-start;width: 50%;}#sk-container-id-3 div.sk-parallel-item:only-child::after {width: 0;}#sk-container-id-3 div.sk-dashed-wrapped {border: 1px dashed gray;margin: 0 0.4em 0.5em 0.4em;box-sizing: border-box;padding-bottom: 0.4em;background-color: white;}#sk-container-id-3 div.sk-label label {font-family: monospace;font-weight: bold;display: inline-block;line-height: 1.2em;}#sk-container-id-3 div.sk-label-container {text-align: center;}#sk-container-id-3 div.sk-container {/* jupyter's `normalize.less` sets `[hidden] { display: none; }` but bootstrap.min.css set `[hidden] { display: none !important; }` so we also need the `!important` here to be able to override the default hidden behavior on the sphinx rendered scikit-learn.org. See: https://github.com/scikit-learn/scikit-learn/issues/21755 */display: inline-block !important;position: relative;}#sk-container-id-3 div.sk-text-repr-fallback {display: none;}</style><div id=\"sk-container-id-3\" class=\"sk-top-container\"><div class=\"sk-text-repr-fallback\"><pre>LogisticRegression(max_iter=10000, random_state=123)</pre><b>In a Jupyter environment, please rerun this cell to show the HTML representation or trust the notebook. <br />On GitHub, the HTML representation is unable to render, please try loading this page with nbviewer.org.</b></div><div class=\"sk-container\" hidden><div class=\"sk-item\"><div class=\"sk-estimator sk-toggleable\"><input class=\"sk-toggleable__control sk-hidden--visually\" id=\"sk-estimator-id-3\" type=\"checkbox\" checked><label for=\"sk-estimator-id-3\" class=\"sk-toggleable__label sk-toggleable__label-arrow\">LogisticRegression</label><div class=\"sk-toggleable__content\"><pre>LogisticRegression(max_iter=10000, random_state=123)</pre></div></div></div></div></div>"
      ],
      "text/plain": [
       "LogisticRegression(max_iter=10000, random_state=123)"
      ]
     },
     "execution_count": 100,
     "metadata": {},
     "output_type": "execute_result"
    }
   ],
   "source": [
    "# #training logistic regression model\n",
    "from sklearn.linear_model import LogisticRegression\n",
    "model=LogisticRegression(max_iter=10000,multi_class='auto',random_state=123)\n",
    "model.fit(x_train_cv,y_train)\n",
    "\n",
    "# #model 2\n",
    "# from sklearn.tree import DecisionTreeClassifier\n",
    "\n",
    "# model = DecisionTreeClassifier(random_state=123)\n",
    "# model.fit(x_train_cv, y_train)\n",
    "\n",
    "# # model 3\n",
    "# from sklearn.ensemble import RandomForestClassifier\n",
    "\n",
    "# model = RandomForestClassifier(n_estimators=100, random_state=123)\n",
    "# model.fit(x_train_cv, y_train)\n"
   ]
  },
  {
   "cell_type": "code",
   "execution_count": 101,
   "id": "0a70ed89",
   "metadata": {
    "id": "0a70ed89"
   },
   "outputs": [],
   "source": [
    "# transform x_test using CV\n",
    "x_test_cv=cv.transform(x_test)"
   ]
  },
  {
   "cell_type": "code",
   "execution_count": 102,
   "id": "7b7988e5",
   "metadata": {
    "id": "7b7988e5"
   },
   "outputs": [],
   "source": [
    "#generate predictions\n",
    "predictions=model.predict(x_test_cv)"
   ]
  },
  {
   "cell_type": "code",
   "execution_count": 103,
   "id": "b26c6e62",
   "metadata": {
    "colab": {
     "base_uri": "https://localhost:8080/"
    },
    "id": "b26c6e62",
    "outputId": "e5c044b3-046b-40da-cbe5-6b301d114184"
   },
   "outputs": [
    {
     "data": {
      "text/plain": [
       "array(['normal', 'offensive', 'offensive', 'normal', 'normal',\n",
       "       'offensive', 'offensive', 'offensive', 'offensive', 'offensive',\n",
       "       'offensive', 'offensive', 'offensive', 'offensive', 'offensive',\n",
       "       'offensive', 'offensive', 'normal', 'offensive', 'offensive',\n",
       "       'offensive', 'offensive', 'offensive', 'offensive', 'offensive',\n",
       "       'offensive', 'normal', 'offensive', 'offensive', 'normal',\n",
       "       'offensive', 'offensive', 'offensive', 'offensive', 'offensive',\n",
       "       'offensive', 'normal', 'offensive', 'offensive', 'offensive',\n",
       "       'normal', 'offensive', 'offensive', 'offensive', 'offensive',\n",
       "       'offensive', 'offensive', 'offensive', 'offensive', 'offensive',\n",
       "       'offensive', 'offensive', 'offensive', 'offensive', 'normal',\n",
       "       'offensive', 'offensive', 'offensive', 'offensive', 'offensive',\n",
       "       'offensive', 'offensive', 'offensive', 'offensive', 'normal',\n",
       "       'normal', 'offensive', 'offensive', 'offensive', 'offensive',\n",
       "       'normal', 'normal', 'normal', 'normal', 'offensive', 'offensive',\n",
       "       'offensive', 'offensive', 'offensive', 'normal', 'offensive',\n",
       "       'offensive', 'offensive', 'offensive', 'offensive', 'normal',\n",
       "       'offensive', 'offensive', 'offensive', 'offensive', 'offensive',\n",
       "       'offensive', 'offensive', 'offensive', 'offensive', 'offensive',\n",
       "       'offensive', 'normal', 'offensive', 'offensive', 'offensive',\n",
       "       'normal', 'offensive', 'normal', 'offensive', 'offensive',\n",
       "       'offensive', 'offensive', 'normal', 'offensive', 'offensive',\n",
       "       'offensive', 'normal', 'offensive', 'offensive', 'offensive',\n",
       "       'offensive', 'offensive', 'normal', 'normal', 'offensive',\n",
       "       'offensive', 'offensive', 'offensive', 'offensive', 'offensive',\n",
       "       'offensive', 'normal', 'offensive', 'offensive', 'offensive',\n",
       "       'normal', 'offensive', 'normal', 'normal', 'normal', 'offensive',\n",
       "       'offensive', 'offensive', 'offensive', 'offensive', 'offensive',\n",
       "       'offensive', 'offensive', 'normal', 'normal', 'offensive',\n",
       "       'offensive', 'offensive', 'offensive', 'offensive', 'offensive',\n",
       "       'normal', 'offensive', 'offensive', 'normal', 'offensive',\n",
       "       'normal', 'normal', 'offensive', 'offensive', 'offensive',\n",
       "       'normal', 'offensive', 'offensive', 'offensive', 'offensive',\n",
       "       'offensive', 'offensive', 'offensive', 'normal', 'offensive',\n",
       "       'offensive', 'offensive', 'normal', 'offensive', 'normal',\n",
       "       'offensive', 'offensive', 'offensive', 'normal', 'offensive',\n",
       "       'normal', 'offensive', 'offensive', 'offensive', 'offensive',\n",
       "       'offensive', 'offensive', 'offensive', 'normal', 'offensive',\n",
       "       'offensive', 'offensive', 'normal', 'normal', 'offensive',\n",
       "       'offensive', 'offensive', 'offensive', 'offensive', 'offensive',\n",
       "       'offensive', 'offensive', 'offensive', 'normal', 'offensive',\n",
       "       'offensive', 'offensive', 'offensive', 'offensive', 'offensive',\n",
       "       'offensive', 'normal', 'offensive', 'offensive', 'offensive',\n",
       "       'offensive', 'offensive', 'offensive', 'offensive', 'offensive',\n",
       "       'offensive', 'normal', 'normal', 'offensive', 'offensive',\n",
       "       'offensive', 'offensive', 'offensive', 'offensive', 'offensive',\n",
       "       'offensive', 'offensive', 'offensive', 'offensive', 'offensive',\n",
       "       'offensive', 'offensive', 'offensive', 'offensive', 'normal',\n",
       "       'normal', 'offensive', 'offensive', 'offensive', 'offensive',\n",
       "       'offensive', 'offensive', 'offensive', 'offensive', 'offensive',\n",
       "       'offensive', 'offensive', 'offensive', 'normal', 'offensive',\n",
       "       'offensive', 'offensive', 'offensive', 'offensive', 'normal',\n",
       "       'offensive', 'offensive', 'offensive', 'normal', 'offensive',\n",
       "       'offensive', 'offensive', 'offensive', 'offensive', 'offensive',\n",
       "       'offensive', 'offensive', 'offensive', 'offensive', 'offensive',\n",
       "       'normal', 'offensive', 'offensive', 'offensive', 'offensive',\n",
       "       'offensive', 'offensive', 'offensive', 'offensive', 'offensive',\n",
       "       'offensive', 'offensive', 'offensive', 'normal', 'offensive',\n",
       "       'offensive', 'offensive', 'offensive', 'offensive', 'offensive',\n",
       "       'offensive', 'offensive', 'offensive', 'offensive', 'offensive',\n",
       "       'offensive', 'offensive', 'offensive', 'offensive', 'offensive',\n",
       "       'offensive', 'normal', 'offensive', 'offensive', 'offensive',\n",
       "       'offensive', 'offensive', 'offensive', 'offensive', 'offensive',\n",
       "       'offensive', 'offensive', 'offensive', 'offensive', 'offensive',\n",
       "       'normal', 'offensive', 'offensive', 'offensive', 'offensive',\n",
       "       'offensive', 'offensive', 'offensive', 'offensive', 'offensive',\n",
       "       'offensive', 'normal', 'offensive', 'offensive', 'normal',\n",
       "       'offensive', 'offensive', 'offensive', 'offensive', 'offensive',\n",
       "       'offensive', 'offensive', 'normal', 'offensive', 'offensive',\n",
       "       'offensive', 'offensive', 'normal', 'offensive', 'offensive',\n",
       "       'offensive', 'offensive', 'offensive', 'offensive', 'offensive',\n",
       "       'offensive', 'offensive', 'offensive', 'offensive', 'offensive',\n",
       "       'offensive', 'offensive', 'normal', 'offensive', 'normal',\n",
       "       'offensive', 'normal', 'offensive', 'offensive', 'offensive',\n",
       "       'offensive', 'offensive', 'offensive', 'offensive', 'normal',\n",
       "       'offensive', 'offensive', 'offensive', 'offensive', 'offensive',\n",
       "       'offensive', 'offensive', 'offensive', 'offensive', 'offensive',\n",
       "       'offensive', 'offensive', 'offensive', 'offensive', 'normal',\n",
       "       'offensive', 'offensive', 'offensive', 'offensive', 'offensive',\n",
       "       'offensive', 'offensive', 'offensive', 'offensive', 'offensive',\n",
       "       'offensive', 'offensive', 'offensive', 'offensive', 'offensive',\n",
       "       'offensive', 'offensive', 'offensive', 'normal', 'offensive',\n",
       "       'normal', 'offensive', 'offensive', 'offensive', 'offensive',\n",
       "       'offensive', 'offensive', 'offensive', 'offensive', 'offensive',\n",
       "       'offensive', 'offensive', 'offensive', 'offensive', 'offensive',\n",
       "       'offensive', 'offensive', 'normal', 'normal', 'offensive',\n",
       "       'offensive', 'offensive', 'offensive', 'normal', 'offensive',\n",
       "       'offensive', 'offensive', 'offensive', 'offensive', 'offensive',\n",
       "       'offensive', 'normal', 'offensive', 'normal', 'offensive',\n",
       "       'normal', 'normal', 'offensive', 'offensive', 'normal',\n",
       "       'offensive', 'offensive', 'normal', 'offensive', 'normal',\n",
       "       'normal', 'normal', 'offensive', 'offensive', 'offensive',\n",
       "       'offensive', 'normal', 'offensive', 'offensive', 'offensive',\n",
       "       'offensive', 'offensive', 'normal', 'offensive', 'normal',\n",
       "       'offensive', 'offensive', 'offensive', 'normal', 'offensive',\n",
       "       'offensive', 'offensive', 'offensive', 'offensive', 'normal',\n",
       "       'offensive', 'offensive', 'offensive', 'normal', 'offensive',\n",
       "       'offensive', 'offensive', 'offensive', 'offensive', 'offensive',\n",
       "       'offensive', 'normal', 'offensive', 'normal', 'normal',\n",
       "       'offensive', 'offensive', 'offensive', 'normal', 'offensive',\n",
       "       'offensive', 'normal', 'offensive', 'offensive', 'offensive',\n",
       "       'normal', 'offensive', 'offensive', 'offensive', 'offensive',\n",
       "       'offensive', 'offensive', 'offensive', 'offensive', 'offensive',\n",
       "       'offensive', 'offensive', 'offensive', 'normal', 'offensive',\n",
       "       'offensive', 'offensive', 'normal', 'offensive', 'offensive',\n",
       "       'offensive', 'normal', 'offensive', 'offensive', 'normal',\n",
       "       'normal', 'offensive', 'offensive', 'normal', 'offensive',\n",
       "       'offensive', 'offensive', 'offensive', 'offensive', 'offensive',\n",
       "       'offensive', 'offensive', 'offensive', 'offensive', 'offensive',\n",
       "       'offensive', 'offensive', 'offensive', 'offensive', 'offensive',\n",
       "       'normal', 'offensive', 'normal', 'offensive', 'offensive',\n",
       "       'normal', 'offensive', 'offensive', 'offensive', 'offensive',\n",
       "       'offensive', 'offensive', 'offensive', 'normal', 'offensive',\n",
       "       'offensive', 'offensive', 'offensive', 'offensive', 'normal',\n",
       "       'offensive', 'normal', 'offensive', 'offensive', 'offensive',\n",
       "       'normal', 'offensive', 'offensive', 'offensive', 'offensive',\n",
       "       'offensive', 'offensive', 'normal', 'offensive', 'offensive',\n",
       "       'normal', 'offensive', 'normal', 'offensive', 'offensive',\n",
       "       'offensive', 'offensive', 'normal', 'offensive', 'offensive',\n",
       "       'normal', 'offensive', 'normal', 'normal', 'offensive',\n",
       "       'offensive', 'offensive', 'offensive', 'offensive', 'offensive',\n",
       "       'offensive', 'offensive', 'offensive', 'offensive', 'offensive',\n",
       "       'offensive', 'offensive', 'offensive', 'offensive', 'normal',\n",
       "       'normal', 'offensive', 'offensive', 'offensive', 'offensive',\n",
       "       'offensive', 'offensive', 'normal', 'offensive', 'offensive',\n",
       "       'offensive', 'offensive', 'offensive', 'offensive', 'offensive',\n",
       "       'offensive', 'offensive', 'offensive', 'offensive', 'offensive',\n",
       "       'offensive', 'offensive', 'offensive', 'offensive', 'normal',\n",
       "       'offensive', 'normal', 'offensive', 'offensive', 'offensive',\n",
       "       'offensive', 'offensive', 'offensive', 'offensive', 'offensive',\n",
       "       'offensive', 'offensive', 'offensive', 'offensive', 'offensive',\n",
       "       'offensive', 'offensive', 'offensive', 'normal', 'offensive',\n",
       "       'offensive', 'offensive', 'offensive', 'offensive', 'offensive',\n",
       "       'offensive', 'offensive'], dtype=object)"
      ]
     },
     "execution_count": 103,
     "metadata": {},
     "output_type": "execute_result"
    }
   ],
   "source": [
    "predictions"
   ]
  },
  {
   "cell_type": "code",
   "execution_count": 104,
   "id": "85492bee",
   "metadata": {
    "id": "85492bee"
   },
   "outputs": [],
   "source": [
    "#confusion matrix\n",
    "import pandas as pd\n",
    "from sklearn import metrics\n",
    "cm=metrics.confusion_matrix(y_test,predictions)"
   ]
  },
  {
   "cell_type": "code",
   "execution_count": 105,
   "id": "f88dceb2",
   "metadata": {
    "colab": {
     "base_uri": "https://localhost:8080/"
    },
    "id": "f88dceb2",
    "outputId": "6fd62a09-5a0b-408f-e0bb-cf0bfda02771"
   },
   "outputs": [
    {
     "data": {
      "text/plain": [
       "array([[ 77, 110],\n",
       "       [ 41, 441]], dtype=int64)"
      ]
     },
     "execution_count": 105,
     "metadata": {},
     "output_type": "execute_result"
    }
   ],
   "source": [
    "cm"
   ]
  },
  {
   "cell_type": "code",
   "execution_count": 106,
   "id": "a232d851",
   "metadata": {
    "colab": {
     "base_uri": "https://localhost:8080/"
    },
    "id": "a232d851",
    "outputId": "a217b3cb-ae94-4874-f8ac-871c57aa9827"
   },
   "outputs": [
    {
     "name": "stdout",
     "output_type": "stream",
     "text": [
      "Accuracy: 0.7742899850523169 %\n"
     ]
    }
   ],
   "source": [
    "from sklearn.metrics import accuracy_score\n",
    "acc = accuracy_score(y_test, predictions)\n",
    "print(\"Accuracy: \"+str(acc)+\" %\")"
   ]
  },
  {
   "cell_type": "code",
   "execution_count": 107,
   "id": "180a56b2",
   "metadata": {
    "colab": {
     "base_uri": "https://localhost:8080/"
    },
    "id": "180a56b2",
    "outputId": "93f1edcc-22df-43e4-e705-61184ae34f57"
   },
   "outputs": [
    {
     "name": "stdout",
     "output_type": "stream",
     "text": [
      "              precision    recall  f1-score   support\n",
      "\n",
      "      normal       0.65      0.41      0.50       187\n",
      "   offensive       0.80      0.91      0.85       482\n",
      "\n",
      "    accuracy                           0.77       669\n",
      "   macro avg       0.73      0.66      0.68       669\n",
      "weighted avg       0.76      0.77      0.76       669\n",
      "\n"
     ]
    }
   ],
   "source": [
    "from sklearn.metrics import classification_report\n",
    "print(classification_report(y_test, predictions))"
   ]
  },
  {
   "cell_type": "code",
   "execution_count": 114,
   "id": "6cae63d0",
   "metadata": {
    "id": "6cae63d0"
   },
   "outputs": [],
   "source": [
    "documents = [ \"زبالة\" , \"عسل\"   ]\n",
    "test=cv.transform(documents)"
   ]
  },
  {
   "cell_type": "code",
   "execution_count": 115,
   "id": "644dd684",
   "metadata": {
    "colab": {
     "base_uri": "https://localhost:8080/"
    },
    "id": "644dd684",
    "outputId": "a715cadd-f042-4d55-d36d-622776c43bef"
   },
   "outputs": [
    {
     "data": {
      "text/plain": [
       "array(['offensive', 'normal'], dtype=object)"
      ]
     },
     "execution_count": 115,
     "metadata": {},
     "output_type": "execute_result"
    }
   ],
   "source": [
    "model.predict(test)"
   ]
  },
  {
   "cell_type": "code",
   "execution_count": null,
   "id": "7cffe0d1",
   "metadata": {
    "id": "7cffe0d1"
   },
   "outputs": [],
   "source": []
  },
  {
   "cell_type": "code",
   "execution_count": null,
   "id": "d812d2ca",
   "metadata": {
    "id": "d812d2ca"
   },
   "outputs": [],
   "source": []
  },
  {
   "cell_type": "code",
   "execution_count": null,
   "id": "7acce12f",
   "metadata": {},
   "outputs": [],
   "source": []
  },
  {
   "cell_type": "code",
   "execution_count": null,
   "id": "ab7cd29b",
   "metadata": {},
   "outputs": [],
   "source": []
  },
  {
   "cell_type": "code",
   "execution_count": null,
   "id": "714549ad",
   "metadata": {},
   "outputs": [],
   "source": []
  },
  {
   "cell_type": "code",
   "execution_count": null,
   "id": "220abd85",
   "metadata": {},
   "outputs": [],
   "source": []
  },
  {
   "cell_type": "code",
   "execution_count": null,
   "id": "ae3b634c",
   "metadata": {},
   "outputs": [],
   "source": []
  },
  {
   "cell_type": "code",
   "execution_count": null,
   "id": "da781b8a",
   "metadata": {},
   "outputs": [],
   "source": []
  },
  {
   "cell_type": "code",
   "execution_count": null,
   "id": "64e166fc",
   "metadata": {},
   "outputs": [],
   "source": []
  },
  {
   "cell_type": "code",
   "execution_count": null,
   "id": "1be1338c",
   "metadata": {},
   "outputs": [],
   "source": []
  },
  {
   "cell_type": "code",
   "execution_count": null,
   "id": "a52e2703",
   "metadata": {},
   "outputs": [],
   "source": []
  },
  {
   "cell_type": "code",
   "execution_count": null,
   "id": "e4a8297c",
   "metadata": {},
   "outputs": [],
   "source": []
  },
  {
   "cell_type": "code",
   "execution_count": null,
   "id": "6a90c177",
   "metadata": {},
   "outputs": [],
   "source": []
  },
  {
   "cell_type": "code",
   "execution_count": null,
   "id": "8a2af280",
   "metadata": {},
   "outputs": [],
   "source": []
  },
  {
   "cell_type": "code",
   "execution_count": null,
   "id": "fa6642e4",
   "metadata": {},
   "outputs": [],
   "source": []
  },
  {
   "cell_type": "code",
   "execution_count": null,
   "id": "b0518091",
   "metadata": {},
   "outputs": [],
   "source": []
  },
  {
   "cell_type": "code",
   "execution_count": null,
   "id": "3b569e2f",
   "metadata": {},
   "outputs": [],
   "source": []
  },
  {
   "cell_type": "code",
   "execution_count": null,
   "id": "3f7adade",
   "metadata": {},
   "outputs": [],
   "source": []
  }
 ],
 "metadata": {
  "colab": {
   "provenance": []
  },
  "kernelspec": {
   "display_name": "Python 3 (ipykernel)",
   "language": "python",
   "name": "python3"
  },
  "language_info": {
   "codemirror_mode": {
    "name": "ipython",
    "version": 3
   },
   "file_extension": ".py",
   "mimetype": "text/x-python",
   "name": "python",
   "nbconvert_exporter": "python",
   "pygments_lexer": "ipython3",
   "version": "3.11.5"
  }
 },
 "nbformat": 4,
 "nbformat_minor": 5
}
